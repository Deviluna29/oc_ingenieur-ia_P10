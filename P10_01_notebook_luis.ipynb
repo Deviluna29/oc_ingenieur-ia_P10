{
 "cells": [
  {
   "cell_type": "code",
   "execution_count": 41,
   "metadata": {},
   "outputs": [],
   "source": [
    "%reload_ext autoreload\n",
    "%autoreload 2\n",
    "%matplotlib inline\n",
    "\n",
    "import os\n",
    "import time\n",
    "import json\n",
    "\n",
    "import pandas as pd\n",
    "\n",
    "from sklearn.model_selection import train_test_split\n",
    "\n",
    "from azure.cognitiveservices.language.luis.authoring import LUISAuthoringClient\n",
    "from azure.cognitiveservices.language.luis.authoring.models import ApplicationCreateObject\n",
    "from azure.cognitiveservices.language.luis.runtime import LUISRuntimeClient\n",
    "from msrest.authentication import CognitiveServicesCredentials\n",
    "\n",
    "# Charger les variables d'environnement depuis le ficher .env\n",
    "from dotenv import load_dotenv\n",
    "\n",
    "load_dotenv()\n",
    "LUIS_SUBSCRIPTION_KEY = os.getenv(\"LUIS_SUBSCRIPTION_KEY\")\n",
    "LUIS_ENDPOINT = os.getenv(\"LUIS_ENDPOINT\")"
   ]
  },
  {
   "cell_type": "markdown",
   "metadata": {},
   "source": [
    "### **Création de l'application LUIS**"
   ]
  },
  {
   "cell_type": "code",
   "execution_count": 8,
   "metadata": {},
   "outputs": [],
   "source": [
    "# LUIS client\n",
    "client = LUISAuthoringClient(LUIS_ENDPOINT, CognitiveServicesCredentials(LUIS_SUBSCRIPTION_KEY))\n",
    "\n",
    "app_id = \"e06fb540-29d5-4a98-b460-ff27258f15b0\""
   ]
  },
  {
   "cell_type": "code",
   "execution_count": 9,
   "metadata": {},
   "outputs": [
    {
     "name": "stdout",
     "output_type": "stream",
     "text": [
      "Created app e06fb540-29d5-4a98-b460-ff27258f15b0\n"
     ]
    }
   ],
   "source": [
    "# Create a LUIS app\n",
    "\n",
    "#app_id = client.apps.add({\n",
    "#            'name': \"Book Chatbot\",\n",
    "#            'initial_version_id':  \"0.1\",\n",
    "#            'description': \"Flight booking app with LUIS Python\",\n",
    "#            'culture': 'en-us',\n",
    "#        })\n",
    "\n",
    "print(\"Created app {}\".format(app_id))"
   ]
  },
  {
   "cell_type": "code",
   "execution_count": 10,
   "metadata": {},
   "outputs": [],
   "source": [
    "luis_app = client.apps.get(app_id=app_id)\n",
    "\n",
    "app_version = luis_app.active_version"
   ]
  },
  {
   "cell_type": "code",
   "execution_count": 11,
   "metadata": {},
   "outputs": [
    {
     "name": "stdout",
     "output_type": "stream",
     "text": [
      "or_city entity created with id 988c0336-2a9c-4226-aeba-e84d7c0c5661\n",
      "dst_city entity created with id 5b1029ae-2c77-4a01-b5a2-27589bf085b2\n",
      "str_date entity created with id aa816a6f-584d-4c02-aace-fd3b9fd0eb31\n",
      "end_date entity created with id 077435d8-f2c5-4384-b667-5990fd4811b6\n",
      "budget entity created with id a4262255-68e4-4608-bbe2-5e99152174de\n",
      "BookFlight intent created with id 73f39c7a-7175-48b8-8cf6-2c06ee2a2b9b\n"
     ]
    }
   ],
   "source": [
    "entities = ['or_city', 'dst_city', 'str_date', 'end_date', 'budget']\n",
    "\n",
    "# Create entities into the model\n",
    "for entity in entities:\n",
    "    entity_id = client.model.add_entity(app_id, app_version, name=entity)\n",
    "    print(f\"{entity} entity created with id {entity_id}\")\n",
    "\n",
    "# Create intent into the model\n",
    "intent_name = \"BookFlight\"\n",
    "\n",
    "intent_id = client.model.add_intent(app_id, app_version, name=intent_name)\n",
    "print(f\"{intent_name} intent created with id {intent_id}\")"
   ]
  },
  {
   "cell_type": "markdown",
   "metadata": {},
   "source": [
    "### **Entraînement du modèle et publication de l'app**"
   ]
  },
  {
   "cell_type": "code",
   "execution_count": 14,
   "metadata": {},
   "outputs": [],
   "source": [
    "data = pd.read_json('data/frames.json')\n",
    "turns_list = data['turns'].to_list()"
   ]
  },
  {
   "cell_type": "code",
   "execution_count": 13,
   "metadata": {},
   "outputs": [],
   "source": [
    "list_keys_kept = ['or_city', 'dst_city', 'str_date', 'end_date', 'budget']\n",
    "\n",
    "def get_key_value(arg):\n",
    "    if \"key\" in arg and \"val\" in arg:\n",
    "        key = arg['key']\n",
    "        value = arg['val']\n",
    "\n",
    "        if value != '-1':\n",
    "            return (key, value)\n",
    "\n",
    "    return (None, None)\n",
    "\n",
    "\n",
    "def get_entity_labels(text, key, value):\n",
    "    \n",
    "    text = text.lower()\n",
    "    value = value.lower()\n",
    "\n",
    "    return {\n",
    "        'entity_name': key,\n",
    "        'start_char_index': text.index(value),\n",
    "        'end_char_index': text.index(value) + len(value)\n",
    "    }"
   ]
  },
  {
   "cell_type": "code",
   "execution_count": 15,
   "metadata": {},
   "outputs": [],
   "source": [
    "utterances = []\n",
    "\n",
    "for turn in turns_list:\n",
    "    for message in turn:\n",
    "        # Seulement les messages provenant de l'utilisateur\n",
    "        if message['author'] == 'user':\n",
    "            text = message['text']\n",
    "            entity_labels = []\n",
    "\n",
    "            for act in message['labels']['acts']:\n",
    "                for arg in act['args']:\n",
    "\n",
    "                    key, value = get_key_value(arg)\n",
    "\n",
    "                    if key not in list_keys_kept or key == None or value == None:\n",
    "                        continue\n",
    "\n",
    "                    entity_labels.append(get_entity_labels(text, key, value))\n",
    "            \n",
    "            if entity_labels:\n",
    "                utterances.append({\n",
    "                    'text': text,\n",
    "                    'intent_name': 'BookFlight',\n",
    "                    'entity_labels': entity_labels\n",
    "                })"
   ]
  },
  {
   "cell_type": "code",
   "execution_count": 24,
   "metadata": {},
   "outputs": [],
   "source": [
    "train_data, test_data = train_test_split(utterances, test_size=0.2, shuffle=True)"
   ]
  },
  {
   "cell_type": "code",
   "execution_count": 29,
   "metadata": {},
   "outputs": [
    {
     "data": {
      "text/plain": [
       "3500"
      ]
     },
     "execution_count": 29,
     "metadata": {},
     "output_type": "execute_result"
    }
   ],
   "source": [
    "len(train_data)"
   ]
  },
  {
   "cell_type": "code",
   "execution_count": null,
   "metadata": {},
   "outputs": [],
   "source": [
    "for i in range(0, len(train_data), 100):\n",
    "    j = i + 100\n",
    "    if j > len(train_data):\n",
    "        j = len(train_data)\n",
    "\n",
    "    client.examples.batch(\n",
    "                app_id,\n",
    "                app_version,\n",
    "                train_data[i:j]\n",
    "            )"
   ]
  },
  {
   "cell_type": "code",
   "execution_count": 34,
   "metadata": {},
   "outputs": [
    {
     "name": "stdout",
     "output_type": "stream",
     "text": [
      "Start training the app...\n",
      "The app is trained !\n"
     ]
    }
   ],
   "source": [
    "# Train the model\n",
    "print(\"Start training the app...\")\n",
    "\n",
    "client.train.train_version(app_id, app_version)\n",
    "waiting = True\n",
    "\n",
    "while waiting:\n",
    "    info = client.train.get_status(app_id, app_version)\n",
    "\n",
    "    # get_status returns a list of training statuses, one for each model. Loop through them and make sure all are done.\n",
    "    waiting = any(map(lambda x: 'Queued' == x.details.status or 'InProgress' == x.details.status, info))\n",
    "    if waiting:\n",
    "        print (\"Waiting 10 seconds for training to complete...\")\n",
    "        time.sleep(10)\n",
    "    else: \n",
    "        print(\"The app is trained !\")\n",
    "        waiting = False"
   ]
  },
  {
   "cell_type": "code",
   "execution_count": 67,
   "metadata": {},
   "outputs": [
    {
     "name": "stdout",
     "output_type": "stream",
     "text": [
      "Start publishing the app...\n"
     ]
    }
   ],
   "source": [
    "# Publish the app\n",
    "print(\"Start publishing the app...\")\n",
    "\n",
    "client.apps.update_settings(app_id, is_public=True)\n",
    "publish_result = client.apps.publish(app_id, app_version, is_staging=False)\n",
    "\n",
    "endpoint = publish_result.endpoint_url + \\\n",
    "            \"?subscription-key=\" + LUIS_SUBSCRIPTION_KEY + \"&q=\"\n",
    "\n",
    "print(\"The app is published.\")"
   ]
  },
  {
   "cell_type": "markdown",
   "metadata": {},
   "source": [
    "### **Test de l'application**"
   ]
  },
  {
   "cell_type": "code",
   "execution_count": 48,
   "metadata": {},
   "outputs": [],
   "source": [
    "runtimeCredentials = CognitiveServicesCredentials(LUIS_SUBSCRIPTION_KEY)\n",
    "clientRuntime = LUISRuntimeClient(endpoint='https://westeurope.api.cognitive.microsoft.com', credentials=runtimeCredentials)\n",
    "\n",
    "\n",
    "request = { \"query\" : \"I want to go to Paris with 250 dollars\" }\n",
    "\n",
    "predictionResponse = clientRuntime.prediction.get_slot_prediction(app_id, \"Production\", request)"
   ]
  },
  {
   "cell_type": "code",
   "execution_count": 49,
   "metadata": {},
   "outputs": [
    {
     "name": "stdout",
     "output_type": "stream",
     "text": [
      "Top intent: BookFlight\n",
      "Intents: \n",
      "\t\"BookFlight\"\n",
      "Entities: {'dst_city': ['Paris'], 'budget': ['250 dollars']}\n"
     ]
    }
   ],
   "source": [
    "print(\"Top intent: {}\".format(predictionResponse.prediction.top_intent))\n",
    "print(\"Intents: \")\n",
    "\n",
    "for intent in predictionResponse.prediction.intents:\n",
    "    print(\"\\t{}\".format (json.dumps (intent)))\n",
    "print(\"Entities: {}\".format (predictionResponse.prediction.entities))"
   ]
  },
  {
   "cell_type": "code",
   "execution_count": 52,
   "metadata": {},
   "outputs": [
    {
     "data": {
      "text/plain": [
       "{'text': 'i have 1600',\n",
       " 'intent_name': 'BookFlight',\n",
       " 'entity_labels': [{'entity_name': 'budget',\n",
       "   'start_char_index': 7,\n",
       "   'end_char_index': 11}]}"
      ]
     },
     "execution_count": 52,
     "metadata": {},
     "output_type": "execute_result"
    }
   ],
   "source": [
    "test_data[0]"
   ]
  },
  {
   "cell_type": "code",
   "execution_count": 50,
   "metadata": {},
   "outputs": [],
   "source": [
    "def predict(clientRuntime, app_id, query):\n",
    "\n",
    "    request = { \"query\" : query }\n",
    "    response = clientRuntime.prediction.get_slot_prediction(app_id, \"Production\", request)\n",
    "\n",
    "    entities = response.prediction.entities\n",
    "    entities = {k:v[0] for k, v in entities.items()}\n",
    "\n",
    "    return entities"
   ]
  },
  {
   "cell_type": "code",
   "execution_count": 62,
   "metadata": {},
   "outputs": [],
   "source": [
    "def format_true_data(data):\n",
    "    y_true = {}\n",
    "    text = data['text']\n",
    "\n",
    "    for entity in data['entity_labels']:\n",
    "        y_true[entity['entity_name']] = text[entity['start_char_index']:entity['end_char_index']]\n",
    "\n",
    "    return y_true"
   ]
  },
  {
   "cell_type": "code",
   "execution_count": 54,
   "metadata": {},
   "outputs": [],
   "source": [
    "def accuracy_score(y_pred, y_true):\n",
    "    score = 0\n",
    "    for k, v in y_true.items():\n",
    "        if k in y_pred:\n",
    "            if v == y_pred[k]:\n",
    "                score += 1\n",
    "            elif v in y_pred[k]:\n",
    "                score += 0.5\n",
    "\n",
    "    accuracy = score * 100 /len(y_true)\n",
    "\n",
    "    return accuracy\n",
    "\n"
   ]
  },
  {
   "cell_type": "code",
   "execution_count": 55,
   "metadata": {},
   "outputs": [],
   "source": [
    "def evaluate(test_data):\n",
    "    scores = []\n",
    "\n",
    "    for data in test_data:\n",
    "        y_pred = predict(clientRuntime, app_id, data['text'])\n",
    "        y_true = format_true_data(data)\n",
    "        scores.append(accuracy_score(y_pred, y_true))\n",
    "\n",
    "    mean_score = sum(scores) / len(scores)\n",
    "\n",
    "    return scores, mean_score"
   ]
  },
  {
   "cell_type": "code",
   "execution_count": 64,
   "metadata": {},
   "outputs": [],
   "source": [
    "scores, mean_score = evaluate(test_data[0:100])"
   ]
  },
  {
   "cell_type": "code",
   "execution_count": 66,
   "metadata": {},
   "outputs": [
    {
     "data": {
      "text/plain": [
       "70.45833333333334"
      ]
     },
     "execution_count": 66,
     "metadata": {},
     "output_type": "execute_result"
    }
   ],
   "source": [
    "mean_score"
   ]
  }
 ],
 "metadata": {
  "kernelspec": {
   "display_name": "Python 3.9.7 ('projet_9')",
   "language": "python",
   "name": "python3"
  },
  "language_info": {
   "codemirror_mode": {
    "name": "ipython",
    "version": 3
   },
   "file_extension": ".py",
   "mimetype": "text/x-python",
   "name": "python",
   "nbconvert_exporter": "python",
   "pygments_lexer": "ipython3",
   "version": "3.9.7"
  },
  "orig_nbformat": 4,
  "vscode": {
   "interpreter": {
    "hash": "345eabd549a29151fea4104935da81a3c242d9b512fbf35f8454b9f81feb0373"
   }
  }
 },
 "nbformat": 4,
 "nbformat_minor": 2
}
